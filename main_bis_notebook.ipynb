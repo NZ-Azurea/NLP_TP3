{
  "cells": [
    {
      "cell_type": "markdown",
      "metadata": {},
      "source": [
        "# Sentiment Pipeline Walkthrough\n",
        "This notebook reproduces the end-to-end workflow from `main_bis.py`, with explanations attached to each stage.\n"
      ]
    },
    {
      "cell_type": "markdown",
      "metadata": {},
      "source": [
        "## Roadmap\n",
        "1. Configure paths, dependencies, and experiment options.\n",
        "2. Load and inspect the tweet corpus.\n",
        "3. Build tokenisation and vocabulary utilities.\n",
        "4. Encode datasets and prepare PyTorch dataloaders.\n",
        "5. Define the sequence classifier (RNN/LSTM).\n",
        "6. Add evaluation, training, and early-stopping helpers.\n",
        "7. Run the full set of experiments and review predictions.\n"
      ]
    },
    {
      "cell_type": "markdown",
      "metadata": {},
      "source": [
        "## Imports and Global Configuration\n",
        "The following cell collects standard library helpers and PyTorch components. Logging mirrors the CLI implementation.\n"
      ]
    },
    {
      "cell_type": "code",
      "execution_count": 1,
      "id": "d45d17ef",
      "metadata": {},
      "outputs": [
        {
          "name": "stderr",
          "output_type": "stream",
          "text": [
            "[INFO] PyTorch version: 2.8.0+cu128\n"
          ]
        }
      ],
      "source": [
        "import argparse  # noqa: F401 (kept for parity with the script)\n",
        "import json\n",
        "import logging\n",
        "import random\n",
        "import re\n",
        "from collections import Counter, deque\n",
        "from pathlib import Path\n",
        "from typing import Any, Dict, Iterable, List, Optional, Sequence, Tuple\n",
        "\n",
        "import torch\n",
        "from torch import nn\n",
        "from torch.nn.utils.rnn import pad_sequence\n",
        "from torch.utils.data import DataLoader\n",
        "\n",
        "logging.basicConfig(level=logging.INFO, format='[%(levelname)s] %(message)s')\n",
        "LOGGER = logging.getLogger('notebook-trainer')\n",
        "LOGGER.setLevel(logging.INFO)\n",
        "LOGGER.info('PyTorch version: %s', torch.__version__)\n"
      ]
    },
    {
      "cell_type": "markdown",
      "id": "de2a2e56",
      "metadata": {},
      "source": [
        "## Experiment Options\n",
        "Set the configuration knobs you normally pass on the command line. Feel free to tweak values (e.g. disable previews or cap sample counts) before running the training cell.\n"
      ]
    },
    {
      "cell_type": "code",
      "execution_count": 2,
      "id": "bcc6a8da",
      "metadata": {},
      "outputs": [
        {
          "name": "stderr",
          "output_type": "stream",
          "text": [
            "[INFO] Configuration: {'max_vocab_size': 30000, 'min_freq': 2, 'batch_size': 128, 'epochs': 5, 'embedding_dim': 128, 'hidden_size': 128, 'mlp_hidden': 128, 'num_layers': 1, 'dropout': 0.3, 'lr': 0.001, 'max_samples': 0, 'seed': 42, 'early_stop_patience': 0, 'early_stop_window': 3, 'early_stop_min_delta': 0.0, 'max_grad_norm': 5.0, 'bidirectional': True, 'preview_samples': 3, 'no_preview': False}\n"
          ]
        }
      ],
      "source": [
        "DATA_PATH = Path('corpus.json')\n",
        "OPTIONS = {\n",
        "    'max_vocab_size': 30000,\n",
        "    'min_freq': 2,\n",
        "    'batch_size': 128,\n",
        "    'epochs': 5,\n",
        "    'embedding_dim': 128,\n",
        "    'hidden_size': 128,\n",
        "    'mlp_hidden': 128,\n",
        "    'num_layers': 1,\n",
        "    'dropout': 0.3,\n",
        "    'lr': 1e-3,\n",
        "    'max_samples': 0,  # 0 = use the full corpus\n",
        "    'seed': 42,\n",
        "    'early_stop_patience': 0,\n",
        "    'early_stop_window': 3,\n",
        "    'early_stop_min_delta': 0.0,\n",
        "    'max_grad_norm': 5.0,\n",
        "    'bidirectional': True,\n",
        "    'preview_samples': 3,\n",
        "    'no_preview': False,\n",
        "}\n",
        "LOGGER.info('Configuration: %s', OPTIONS)\n"
      ]
    },
    {
      "cell_type": "markdown",
      "id": "dc6c5678",
      "metadata": {},
      "source": [
        "## Load and Inspect the Corpus\n",
        "We ingest the JSON list once, apply the random seed for reproducibility, and take a quick peek at the structure.\n"
      ]
    },
    {
      "cell_type": "code",
      "execution_count": 3,
      "id": "b185522e",
      "metadata": {},
      "outputs": [
        {
          "name": "stderr",
          "output_type": "stream",
          "text": [
            "[INFO] Loaded 500000 samples.\n"
          ]
        },
        {
          "data": {
            "text/plain": [
              "{'text': 'this is not good       sore throat, head ache, stuffy nose - what are the symptoms of swine flu again?',\n",
              " 'target': 'negative',\n",
              " 'lemmatized_text': 'this be not good sore throat , head ache , stuffy nose - what be the symptom of swine flu again ?'}"
            ]
          },
          "execution_count": 3,
          "metadata": {},
          "output_type": "execute_result"
        }
      ],
      "source": [
        "random.seed(OPTIONS['seed'])\n",
        "torch.manual_seed(OPTIONS['seed'])\n",
        "if torch.cuda.is_available():\n",
        "    torch.cuda.manual_seed_all(OPTIONS['seed'])\n",
        "\n",
        "with DATA_PATH.open(encoding='utf-8') as f:\n",
        "    CORPUS: List[Dict[str, Any]] = json.load(f)\n",
        "\n",
        "LOGGER.info('Loaded %d samples.', len(CORPUS))\n",
        "CORPUS[0]\n"
      ]
    },
    {
      "cell_type": "markdown",
      "id": "a0e9ab4a",
      "metadata": {},
      "source": [
        "## Label Mapping\n",
        "Targets are \"positive\"/\"negative\". The mapping below lets us convert between human-readable labels and numeric targets.\n"
      ]
    },
    {
      "cell_type": "code",
      "execution_count": 4,
      "id": "0d8fee3a",
      "metadata": {},
      "outputs": [
        {
          "data": {
            "text/plain": [
              "({'negative': 0, 'positive': 1}, {0: 'negative', 1: 'positive'})"
            ]
          },
          "execution_count": 4,
          "metadata": {},
          "output_type": "execute_result"
        }
      ],
      "source": [
        "LABEL2ID = {'negative': 0, 'positive': 1}\n",
        "ID2LABEL = {idx: label for label, idx in LABEL2ID.items()}\n",
        "LABEL2ID, ID2LABEL\n"
      ]
    },
    {
      "cell_type": "markdown",
      "id": "44a59008",
      "metadata": {},
      "source": [
        "## Tokenisation and Vocabulary\n",
        "The regex-based tokenizer mirrors the CLI script. `Vocab` keeps `<pad>` and `<unk>` slots and restricts the vocabulary size/frequency.\n"
      ]
    },
    {
      "cell_type": "code",
      "execution_count": 5,
      "id": "bf2d7093",
      "metadata": {},
      "outputs": [],
      "source": [
        "TOKEN_PATTERN = re.compile(r'\\w+|[^\\w\\s]')\n",
        "\n",
        "def tokenize(text: str) -> List[str]:\n",
        "    \"\"\"Lowercase tokenization that preserves punctuation as separate tokens.\"\"\"\n",
        "    return TOKEN_PATTERN.findall(text.lower())\n",
        "\n",
        "class Vocab:\n",
        "    \"\"\"Frequency-based vocabulary with special PAD/UNK handling.\"\"\"\n",
        "\n",
        "    def __init__(self, counter: Counter, max_size: Optional[int], min_freq: int) -> None:\n",
        "        base = ['<pad>', '<unk>']\n",
        "        tokens = [tok for tok, freq in counter.most_common() if freq >= min_freq and tok not in base]\n",
        "        limit = (max_size or 0) - len(base)\n",
        "        if limit > 0:\n",
        "            tokens = tokens[:limit]\n",
        "        self.itos = base + tokens\n",
        "        self.stoi = {tok: idx for idx, tok in enumerate(self.itos)}\n",
        "        self.pad_idx = self.stoi['<pad>']\n",
        "        self.unk_idx = self.stoi['<unk>']\n",
        "\n",
        "    def encode(self, tokens: Sequence[str]) -> List[int]:\n",
        "        return [self.stoi.get(tok, self.unk_idx) for tok in tokens]\n",
        "\n",
        "    @property\n",
        "    def size(self) -> int:\n",
        "        return len(self.itos)\n",
        "\n",
        "def build_vocab(texts: Iterable[str], max_size: Optional[int], min_freq: int) -> Vocab:\n",
        "    \"\"\"Construct a vocabulary from an iterable of raw texts.\"\"\"\n",
        "    counter = Counter(tok for text in texts for tok in tokenize(text))\n",
        "    return Vocab(counter, max_size, min_freq)\n"
      ]
    },
    {
      "cell_type": "markdown",
      "id": "fac0606c",
      "metadata": {},
      "source": [
        "## Encoding Samples and Batching\n",
        "We convert (text, label) pairs into integer id sequences, then build a collate function that pads batches for the RNN.\n"
      ]
    },
    {
      "cell_type": "code",
      "execution_count": 6,
      "id": "6138378c",
      "metadata": {},
      "outputs": [],
      "source": [
        "def encode_samples(samples: Sequence[Tuple[str, int]], vocab: Vocab) -> List[Tuple[List[int], int]]:\n",
        "    \"\"\"Tokenise and numericalise each example, falling back to UNK when empty.\"\"\"\n",
        "    encoded: List[Tuple[List[int], int]] = []\n",
        "    for text, label in samples:\n",
        "        ids = vocab.encode(tokenize(text))\n",
        "        if not ids:\n",
        "            ids = [vocab.unk_idx]\n",
        "        encoded.append((ids, label))\n",
        "    return encoded\n",
        "\n",
        "def collate_batch(batch: Sequence[Tuple[List[int], int]], pad_idx: int) -> Tuple[torch.Tensor, torch.Tensor, torch.Tensor]:\n",
        "    \"\"\"Pad a batch of variable-length sequences and return tensors for tokens/lengths/labels.\"\"\"\n",
        "    sequences, labels = zip(*batch)\n",
        "    lengths = torch.tensor([len(seq) for seq in sequences], dtype=torch.long)\n",
        "    padded = pad_sequence([torch.tensor(seq, dtype=torch.long) for seq in sequences], batch_first=True, padding_value=pad_idx)\n",
        "    return padded, lengths, torch.tensor(labels, dtype=torch.long)\n"
      ]
    },
    {
      "cell_type": "markdown",
      "id": "abd06c89",
      "metadata": {},
      "source": [
        "## Sequence Classifier\n",
        "The model embeds tokens, feeds them through an RNN/LSTM stack, concatenates the final states, and finishes with a small MLP classifier.\n"
      ]
    },
    {
      "cell_type": "code",
      "execution_count": 7,
      "id": "75daf868",
      "metadata": {},
      "outputs": [],
      "source": [
        "class SequenceClassifier(nn.Module):\n",
        "    \"\"\"RNN/LSTM encoder paired with an MLP head for sentiment classification.\"\"\"\n",
        "\n",
        "    def __init__(\n",
        "        self,\n",
        "        vocab_size: int,\n",
        "        embedding_dim: int,\n",
        "        hidden_size: int,\n",
        "        *,\n",
        "        rnn_type: str,\n",
        "        num_layers: int,\n",
        "        dropout: float,\n",
        "        bidirectional: bool,\n",
        "        pad_idx: int,\n",
        "        mlp_hidden: int,\n",
        "    ) -> None:\n",
        "        super().__init__()\n",
        "        self.embed = nn.Embedding(vocab_size, embedding_dim, padding_idx=pad_idx)\n",
        "        rnn_cls = nn.LSTM if rnn_type.lower() == 'lstm' else nn.RNN\n",
        "        self.encoder = rnn_cls(\n",
        "            embedding_dim,\n",
        "            hidden_size,\n",
        "            num_layers=num_layers,\n",
        "            batch_first=True,\n",
        "            bidirectional=bidirectional,\n",
        "            dropout=dropout if num_layers > 1 else 0.0,\n",
        "        )\n",
        "        factor = 2 if bidirectional else 1\n",
        "        self.classifier = nn.Sequential(\n",
        "            nn.Linear(hidden_size * factor, mlp_hidden),\n",
        "            nn.ReLU(),\n",
        "            nn.Dropout(dropout),\n",
        "            nn.Linear(mlp_hidden, len(LABEL2ID)),\n",
        "        )\n",
        "\n",
        "    def forward(self, tokens: torch.Tensor, lengths: torch.Tensor) -> torch.Tensor:\n",
        "        embedded = self.embed(tokens)\n",
        "        packed = nn.utils.rnn.pack_padded_sequence(embedded, lengths.cpu(), batch_first=True, enforce_sorted=False)\n",
        "        hidden = self.encoder(packed)[1]\n",
        "        hidden = hidden[0] if isinstance(hidden, tuple) else hidden\n",
        "        hidden = hidden[-2:] if hidden.size(0) > 1 else hidden[-1:]\n",
        "        features = hidden.transpose(0, 1).reshape(tokens.size(0), -1)\n",
        "        return self.classifier(features)\n"
      ]
    },
    {
      "cell_type": "markdown",
      "id": "0bd70ee7",
      "metadata": {},
      "source": [
        "## Early Stopping Helper\n",
        "We maintain a moving average of recent validation losses to dampen noise; training halts once the average fails to improve for the configured patience.\n"
      ]
    },
    {
      "cell_type": "code",
      "execution_count": 8,
      "id": "44dab810",
      "metadata": {},
      "outputs": [],
      "source": [
        "class EarlyStopper:\n",
        "    \"\"\"Moving-average early stopping identical to the CLI version.\"\"\"\n",
        "\n",
        "    def __init__(self, patience: int, window: int, min_delta: float) -> None:\n",
        "        self.patience = max(0, patience)\n",
        "        self.values: deque[float] = deque(maxlen=max(1, window))\n",
        "        self.best = float('inf')\n",
        "        self.min_delta = min_delta\n",
        "        self.bad_epochs = 0\n",
        "\n",
        "    def step(self, value: float) -> bool:\n",
        "        self.values.append(value)\n",
        "        avg = sum(self.values) / len(self.values)\n",
        "        if avg < self.best - self.min_delta:\n",
        "            self.best = avg\n",
        "            self.bad_epochs = 0\n",
        "        else:\n",
        "            self.bad_epochs += 1\n",
        "        return self.patience > 0 and self.bad_epochs >= self.patience\n"
      ]
    },
    {
      "cell_type": "markdown",
      "id": "2f888f07",
      "metadata": {},
      "source": [
        "## Evaluation and Training Utilities\n",
        "`evaluate` reports loss/accuracy and keeps raw probabilities for previewing predictions. `train_model` mirrors the CLI behaviour with logging and gradient clipping.\n"
      ]
    },
    {
      "cell_type": "code",
      "execution_count": 9,
      "id": "12915e70",
      "metadata": {},
      "outputs": [],
      "source": [
        "@torch.no_grad()\n",
        "def evaluate(model: nn.Module, loader: DataLoader, criterion: nn.Module, device: torch.device) -> Dict[str, Any]:\n",
        "    model.eval()\n",
        "    total_loss = total_correct = total_items = 0\n",
        "    probs: List[torch.Tensor] = []\n",
        "    labels: List[torch.Tensor] = []\n",
        "    for tokens, lengths, targets in loader:\n",
        "        tokens, lengths, targets = tokens.to(device), lengths.to(device), targets.to(device)\n",
        "        logits = model(tokens, lengths)\n",
        "        loss = criterion(logits, targets)\n",
        "        batch = targets.size(0)\n",
        "        total_loss += loss.item() * batch\n",
        "        total_correct += (logits.argmax(dim=1) == targets).sum().item()\n",
        "        total_items += batch\n",
        "        probs.append(torch.softmax(logits, dim=1).cpu())\n",
        "        labels.append(targets.cpu())\n",
        "    return {\n",
        "        'loss': total_loss / total_items if total_items else 0.0,\n",
        "        'accuracy': total_correct / total_items if total_items else 0.0,\n",
        "        'probs': torch.cat(probs) if probs else torch.empty((0, len(LABEL2ID))),\n",
        "        'labels': torch.cat(labels) if labels else torch.empty(0, dtype=torch.long),\n",
        "    }\n",
        "\n",
        "def train_model(\n",
        "    model: nn.Module,\n",
        "    train_loader: DataLoader,\n",
        "    val_loader: DataLoader,\n",
        "    device: torch.device,\n",
        "    *,\n",
        "    epochs: int,\n",
        "    lr: float,\n",
        "    max_grad_norm: Optional[float],\n",
        "    stopper: EarlyStopper,\n",
        "    label: str,\n",
        ") -> Tuple[Dict[str, torch.Tensor], List[Dict[str, float]]]:\n",
        "    criterion = nn.CrossEntropyLoss()\n",
        "    opt = torch.optim.Adam(model.parameters(), lr=lr)\n",
        "    best_state: Optional[Dict[str, torch.Tensor]] = None\n",
        "    best_acc = 0.0\n",
        "    history: List[Dict[str, float]] = []\n",
        "    for epoch in range(1, epochs + 1):\n",
        "        model.train()\n",
        "        total_loss = total_correct = total_items = 0\n",
        "        for tokens, lengths, targets in train_loader:\n",
        "            tokens, lengths, targets = tokens.to(device), lengths.to(device), targets.to(device)\n",
        "            opt.zero_grad()\n",
        "            logits = model(tokens, lengths)\n",
        "            loss = criterion(logits, targets)\n",
        "            loss.backward()\n",
        "            if max_grad_norm:\n",
        "                nn.utils.clip_grad_norm_(model.parameters(), max_grad_norm)\n",
        "            opt.step()\n",
        "            batch = targets.size(0)\n",
        "            total_loss += loss.item() * batch\n",
        "            total_correct += (logits.argmax(dim=1) == targets).sum().item()\n",
        "            total_items += batch\n",
        "        train_loss = total_loss / total_items if total_items else 0.0\n",
        "        train_acc = total_correct / total_items if total_items else 0.0\n",
        "        val_metrics = evaluate(model, val_loader, criterion, device)\n",
        "        history.append({\n",
        "            'epoch': float(epoch),\n",
        "            'train_loss': float(train_loss),\n",
        "            'train_acc': float(train_acc),\n",
        "            'val_loss': float(val_metrics['loss']),\n",
        "            'val_acc': float(val_metrics['accuracy']),\n",
        "        })\n",
        "        LOGGER.info('[%s] Epoch %d/%d | train_loss=%.4f train_acc=%.4f val_loss=%.4f val_acc=%.4f', label, epoch, epochs, train_loss, train_acc, val_metrics['loss'], val_metrics['accuracy'])\n",
        "        if val_metrics['accuracy'] > best_acc:\n",
        "            best_acc = val_metrics['accuracy']\n",
        "            best_state = {k: v.detach().cpu().clone() for k, v in model.state_dict().items()}\n",
        "            LOGGER.info('[%s] New best validation accuracy: %.4f', label, best_acc)\n",
        "        if stopper.step(val_metrics['loss']):\n",
        "            LOGGER.info('[%s] Early stopping triggered after %d epoch(s) without improvement.', label, stopper.bad_epochs)\n",
        "            break\n",
        "    final_state = best_state or {k: v.detach().cpu().clone() for k, v in model.state_dict().items()}\n",
        "    return final_state, history\n"
      ]
    },
    {
      "cell_type": "markdown",
      "id": "29fa73e1",
      "metadata": {},
      "source": [
        "## Experiment Driver\n",
        "This helper wires everything together: splits the data, builds loaders, instantiates the model, trains it, and returns metrics plus optional preview predictions.\n"
      ]
    },
    {
      "cell_type": "code",
      "execution_count": 10,
      "id": "d9fa2eff",
      "metadata": {},
      "outputs": [],
      "source": [
        "def split_samples(\n",
        "    data: Sequence[Dict[str, Any]],\n",
        "    text_key: str,\n",
        "    seed: int,\n",
        "    max_samples: Optional[int],\n",
        "    train_ratio: float,\n",
        "    val_ratio: float,\n",
        ") -> Tuple[List[Tuple[str, int]], List[Tuple[str, int]], List[Tuple[str, int]]]:\n",
        "    rng = random.Random(seed)\n",
        "    samples = [(item[text_key], LABEL2ID[item['target']]) for item in data if item.get(text_key)]\n",
        "    rng.shuffle(samples)\n",
        "    if max_samples:\n",
        "        samples = samples[:max_samples]\n",
        "    total = len(samples)\n",
        "    train_end = max(1, int(total * train_ratio))\n",
        "    val_end = max(train_end + 1, train_end + int(total * val_ratio))\n",
        "    return samples[:train_end], samples[train_end:val_end], samples[val_end:]\n",
        "\n",
        "\n",
        "def preview_predictions(samples: Sequence[Tuple[str, int]], probs: torch.Tensor) -> List[Dict[str, Any]]:\n",
        "    out: List[Dict[str, Any]] = []\n",
        "    for (text, label), prob in zip(samples, probs):\n",
        "        cleaned = text.replace('\\n', ' ')\n",
        "        truncated = (cleaned[:117] + '...') if len(cleaned) > 120 else cleaned\n",
        "        out.append({\n",
        "            'text': truncated,\n",
        "            'true_label': ID2LABEL[label],\n",
        "            'pred_label': ID2LABEL[int(prob.argmax().item())],\n",
        "            'prob_negative': float(prob[LABEL2ID['negative']]),\n",
        "            'prob_positive': float(prob[LABEL2ID['positive']]),\n",
        "        })\n",
        "    return out\n",
        "\n",
        "\n",
        "def run_experiment(data: Sequence[Dict[str, Any]], text_key: str, rnn_type: str, device: torch.device) -> Dict[str, Any]:\n",
        "    options = OPTIONS\n",
        "    label = f\"{rnn_type.upper()}|{text_key}\"\n",
        "    max_samples = options['max_samples'] if options['max_samples'] > 0 else None\n",
        "    train_split, val_split, test_split = split_samples(data, text_key, options['seed'], max_samples, 0.8, 0.1)\n",
        "    LOGGER.info('[%s] Dataset prepared: train=%d val=%d test=%d (max_samples=%s)', label, len(train_split), len(val_split), len(test_split), max_samples if max_samples is not None else 'all')\n",
        "    vocab = build_vocab((text for text, _ in train_split), options['max_vocab_size'], options['min_freq'])\n",
        "    LOGGER.info('[%s] Vocabulary size=%d (min_freq=%d)', label, vocab.size, options['min_freq'])\n",
        "    encoded_train, encoded_val, encoded_test = (encode_samples(split, vocab) for split in (train_split, val_split, test_split))\n",
        "    collate = lambda batch: collate_batch(batch, vocab.pad_idx)\n",
        "    loader_args = dict(batch_size=options['batch_size'], collate_fn=collate, pin_memory=device.type == 'cuda')\n",
        "    train_loader = DataLoader(encoded_train, shuffle=True, **loader_args)\n",
        "    val_loader = DataLoader(encoded_val, shuffle=False, **loader_args)\n",
        "    test_loader = DataLoader(encoded_test, shuffle=False, **loader_args)\n",
        "    model = SequenceClassifier(\n",
        "        vocab_size=vocab.size,\n",
        "        embedding_dim=options['embedding_dim'],\n",
        "        hidden_size=options['hidden_size'],\n",
        "        rnn_type=rnn_type,\n",
        "        num_layers=options['num_layers'],\n",
        "        dropout=options['dropout'],\n",
        "        bidirectional=options['bidirectional'],\n",
        "        pad_idx=vocab.pad_idx,\n",
        "        mlp_hidden=options['mlp_hidden'],\n",
        "    ).to(device)\n",
        "    stopper = EarlyStopper(options['early_stop_patience'], options['early_stop_window'], options['early_stop_min_delta'])\n",
        "    best_state, history = train_model(\n",
        "        model,\n",
        "        train_loader,\n",
        "        val_loader,\n",
        "        device,\n",
        "        epochs=options['epochs'],\n",
        "        lr=options['lr'],\n",
        "        max_grad_norm=options['max_grad_norm'],\n",
        "        stopper=stopper,\n",
        "        label=label,\n",
        "    )\n",
        "    model.load_state_dict(best_state)\n",
        "    test_metrics = evaluate(model, test_loader, nn.CrossEntropyLoss(), device)\n",
        "    probs = test_metrics['probs']\n",
        "    labels_tensor = test_metrics['labels']\n",
        "    preds_tensor = probs.argmax(dim=1)\n",
        "    pos_idx = LABEL2ID['positive']\n",
        "    tp = ((preds_tensor == pos_idx) & (labels_tensor == pos_idx)).sum().item()\n",
        "    fp = ((preds_tensor == pos_idx) & (labels_tensor != pos_idx)).sum().item()\n",
        "    fn = ((preds_tensor != pos_idx) & (labels_tensor == pos_idx)).sum().item()\n",
        "    precision = tp / (tp + fp) if (tp + fp) else float('nan')\n",
        "    recall = tp / (tp + fn) if (tp + fn) else float('nan')\n",
        "    f1 = 2 * precision * recall / (precision + recall) if precision and recall and (precision + recall) else float('nan')\n",
        "    best_val_acc = max((h['val_acc'] for h in history), default=0.0)\n",
        "    epochs_run = len(history)\n",
        "    limit = 0 if options['no_preview'] or options['preview_samples'] <= 0 else min(options['preview_samples'], len(test_split), probs.size(0))\n",
        "    return {\n",
        "        'label': label,\n",
        "        'text_key': text_key,\n",
        "        'rnn_type': rnn_type,\n",
        "        'vocab_size': vocab.size,\n",
        "        'train_size': len(train_split),\n",
        "        'val_size': len(val_split),\n",
        "        'test_size': len(test_split),\n",
        "        'history': history,\n",
        "        'epochs_run': epochs_run,\n",
        "        'best_val_acc': float(best_val_acc),\n",
        "        'test_accuracy': float(test_metrics['accuracy']),\n",
        "        'test_loss': float(test_metrics['loss']),\n",
        "        'precision': float(precision),\n",
        "        'recall': float(recall),\n",
        "        'f1': float(f1),\n",
        "        'stopped_early': epochs_run < options['epochs'],\n",
        "        'preview': preview_predictions(test_split[:limit], probs[:limit]) if limit else [],\n",
        "    }\n",
        "\n"
      ]
    },
    {
      "cell_type": "markdown",
      "id": "f5b12d12",
      "metadata": {},
      "source": [
        "## Run the Experiment Grid\n",
        "We evaluate four configurations: (raw text vs lemmatised text) × (vanilla RNN vs LSTM). Adjust `OPTIONS` above before executing this cell if needed.\n"
      ]
    },
    {
      "cell_type": "code",
      "execution_count": 11,
      "id": "6539e52a",
      "metadata": {},
      "outputs": [
        {
          "name": "stderr",
          "output_type": "stream",
          "text": [
            "[INFO] Training on device: cuda\n",
            "[INFO] Queued experiments: RNN|text, RNN|lemmatized_text, LSTM|text, LSTM|lemmatized_text\n",
            "[INFO] [RNN|text] Dataset prepared: train=400000 val=50000 test=50000 (max_samples=all)\n",
            "[INFO] [RNN|text] Vocabulary size=30000 (min_freq=2)\n",
            "[INFO] [RNN|text] Epoch 1/5 | train_loss=0.4845 train_acc=0.7673 val_loss=0.4318 val_acc=0.8028\n",
            "[INFO] [RNN|text] New best validation accuracy: 0.8028\n",
            "[INFO] [RNN|text] Epoch 2/5 | train_loss=0.4099 train_acc=0.8154 val_loss=0.4157 val_acc=0.8101\n",
            "[INFO] [RNN|text] New best validation accuracy: 0.8101\n",
            "[INFO] [RNN|text] Epoch 3/5 | train_loss=0.3813 train_acc=0.8304 val_loss=0.4067 val_acc=0.8167\n",
            "[INFO] [RNN|text] New best validation accuracy: 0.8167\n",
            "[INFO] [RNN|text] Epoch 4/5 | train_loss=0.3607 train_acc=0.8412 val_loss=0.4112 val_acc=0.8157\n",
            "[INFO] [RNN|text] Epoch 5/5 | train_loss=0.3415 train_acc=0.8508 val_loss=0.4168 val_acc=0.8157\n",
            "[INFO] [RNN|lemmatized_text] Dataset prepared: train=400000 val=50000 test=50000 (max_samples=all)\n",
            "[INFO] [RNN|lemmatized_text] Vocabulary size=30000 (min_freq=2)\n",
            "[INFO] [RNN|lemmatized_text] Epoch 1/5 | train_loss=0.4842 train_acc=0.7682 val_loss=0.4390 val_acc=0.7977\n",
            "[INFO] [RNN|lemmatized_text] New best validation accuracy: 0.7977\n",
            "[INFO] [RNN|lemmatized_text] Epoch 2/5 | train_loss=0.4153 train_acc=0.8130 val_loss=0.4261 val_acc=0.8040\n",
            "[INFO] [RNN|lemmatized_text] New best validation accuracy: 0.8040\n",
            "[INFO] [RNN|lemmatized_text] Epoch 3/5 | train_loss=0.3878 train_acc=0.8280 val_loss=0.4165 val_acc=0.8128\n",
            "[INFO] [RNN|lemmatized_text] New best validation accuracy: 0.8128\n",
            "[INFO] [RNN|lemmatized_text] Epoch 4/5 | train_loss=0.3651 train_acc=0.8394 val_loss=0.4185 val_acc=0.8167\n",
            "[INFO] [RNN|lemmatized_text] New best validation accuracy: 0.8167\n",
            "[INFO] [RNN|lemmatized_text] Epoch 5/5 | train_loss=0.3447 train_acc=0.8500 val_loss=0.4186 val_acc=0.8165\n",
            "[INFO] [LSTM|text] Dataset prepared: train=400000 val=50000 test=50000 (max_samples=all)\n",
            "[INFO] [LSTM|text] Vocabulary size=30000 (min_freq=2)\n",
            "[INFO] [LSTM|text] Epoch 1/5 | train_loss=0.4507 train_acc=0.7869 val_loss=0.4044 val_acc=0.8162\n",
            "[INFO] [LSTM|text] New best validation accuracy: 0.8162\n",
            "[INFO] [LSTM|text] Epoch 2/5 | train_loss=0.3710 train_acc=0.8343 val_loss=0.3861 val_acc=0.8267\n",
            "[INFO] [LSTM|text] New best validation accuracy: 0.8267\n",
            "[INFO] [LSTM|text] Epoch 3/5 | train_loss=0.3257 train_acc=0.8575 val_loss=0.3998 val_acc=0.8267\n",
            "[INFO] [LSTM|text] Epoch 4/5 | train_loss=0.2804 train_acc=0.8799 val_loss=0.4176 val_acc=0.8274\n",
            "[INFO] [LSTM|text] New best validation accuracy: 0.8274\n",
            "[INFO] [LSTM|text] Epoch 5/5 | train_loss=0.2317 train_acc=0.9026 val_loss=0.4614 val_acc=0.8221\n",
            "[INFO] [LSTM|lemmatized_text] Dataset prepared: train=400000 val=50000 test=50000 (max_samples=all)\n",
            "[INFO] [LSTM|lemmatized_text] Vocabulary size=30000 (min_freq=2)\n",
            "[INFO] [LSTM|lemmatized_text] Epoch 1/5 | train_loss=0.4539 train_acc=0.7857 val_loss=0.4042 val_acc=0.8151\n",
            "[INFO] [LSTM|lemmatized_text] New best validation accuracy: 0.8151\n",
            "[INFO] [LSTM|lemmatized_text] Epoch 2/5 | train_loss=0.3747 train_acc=0.8330 val_loss=0.3889 val_acc=0.8247\n",
            "[INFO] [LSTM|lemmatized_text] New best validation accuracy: 0.8247\n",
            "[INFO] [LSTM|lemmatized_text] Epoch 3/5 | train_loss=0.3311 train_acc=0.8551 val_loss=0.3928 val_acc=0.8249\n",
            "[INFO] [LSTM|lemmatized_text] New best validation accuracy: 0.8249\n",
            "[INFO] [LSTM|lemmatized_text] Epoch 4/5 | train_loss=0.2874 train_acc=0.8767 val_loss=0.4109 val_acc=0.8229\n",
            "[INFO] [LSTM|lemmatized_text] Epoch 5/5 | train_loss=0.2398 train_acc=0.8987 val_loss=0.4610 val_acc=0.8195\n"
          ]
        },
        {
          "data": {
            "text/plain": [
              "{'label': 'LSTM|text',\n",
              " 'text_key': 'text',\n",
              " 'rnn_type': 'lstm',\n",
              " 'vocab_size': 30000,\n",
              " 'train_size': 400000,\n",
              " 'val_size': 50000,\n",
              " 'test_size': 50000,\n",
              " 'history': [{'epoch': 1.0,\n",
              "   'train_loss': 0.4506865986347198,\n",
              "   'train_acc': 0.786865,\n",
              "   'val_loss': 0.40439369787216184,\n",
              "   'val_acc': 0.8162},\n",
              "  {'epoch': 2.0,\n",
              "   'train_loss': 0.37098567711353303,\n",
              "   'train_acc': 0.83426,\n",
              "   'val_loss': 0.3861215088176727,\n",
              "   'val_acc': 0.82672},\n",
              "  {'epoch': 3.0,\n",
              "   'train_loss': 0.3257223412036896,\n",
              "   'train_acc': 0.8575025,\n",
              "   'val_loss': 0.39984815914154054,\n",
              "   'val_acc': 0.82666},\n",
              "  {'epoch': 4.0,\n",
              "   'train_loss': 0.28041718067646026,\n",
              "   'train_acc': 0.8798725,\n",
              "   'val_loss': 0.41758330454826353,\n",
              "   'val_acc': 0.82736},\n",
              "  {'epoch': 5.0,\n",
              "   'train_loss': 0.23171114287376404,\n",
              "   'train_acc': 0.902595,\n",
              "   'val_loss': 0.46143262365341187,\n",
              "   'val_acc': 0.82206}],\n",
              " 'epochs_run': 5,\n",
              " 'best_val_acc': 0.82736,\n",
              " 'test_accuracy': 0.82926,\n",
              " 'test_loss': 0.4137614381885529,\n",
              " 'stopped_early': False,\n",
              " 'preview': [{'text': 'CS is stupid. Its warm up here  I have a sore tongue haha. Anddd mum is making cake.',\n",
              "   'true_label': 'positive',\n",
              "   'pred_label': 'positive',\n",
              "   'prob_negative': 0.3825111389160156,\n",
              "   'prob_positive': 0.6174888014793396},\n",
              "  {'text': 'my website: LifeLineLaugh.piczo.com .... visit it! please ',\n",
              "   'true_label': 'positive',\n",
              "   'pred_label': 'positive',\n",
              "   'prob_negative': 0.04348183795809746,\n",
              "   'prob_positive': 0.9565181732177734},\n",
              "  {'text': ' @ a f o x 9 8   T h a n k   y o u   f o r   e n d l e s s .   H a v e   S a r t o   C o m e d y   a n d   L a u r e ...',\n",
              "   'true_label': 'positive',\n",
              "   'pred_label': 'positive',\n",
              "   'prob_negative': 0.17262279987335205,\n",
              "   'prob_positive': 0.827377200126648}]}"
            ]
          },
          "execution_count": 11,
          "metadata": {},
          "output_type": "execute_result"
        }
      ],
      "source": [
        "DEVICE = torch.device('cuda' if torch.cuda.is_available() else 'cpu')\n",
        "LOGGER.info('Training on device: %s', DEVICE)\n",
        "EXPERIMENTS = [('text', 'rnn'), ('lemmatized_text', 'rnn'), ('text', 'lstm'), ('lemmatized_text', 'lstm')]\n",
        "LOGGER.info('Queued experiments: %s', ', '.join(f\"{r.upper()}|{t}\" for t, r in EXPERIMENTS))\n",
        "RESULTS = [run_experiment(CORPUS, text_key, rnn_type, DEVICE) for text_key, rnn_type in EXPERIMENTS]\n",
        "BEST = max(RESULTS, key=lambda r: r['test_accuracy'])\n",
        "BEST\n"
      ]
    },
    {
      "cell_type": "markdown",
      "id": "dd269457",
      "metadata": {},
      "source": [
        "\n",
        "## Summarise Metrics\n",
        "The summary emulates the CLI output while adding precision, recall, and F1 metrics computed on the full test set.\n",
        "\n"
      ]
    },
    {
      "cell_type": "code",
      "execution_count": 14,
      "id": "04c9f029",
      "metadata": {},
      "outputs": [
        {
          "name": "stdout",
          "output_type": "stream",
          "text": [
            "[{'best_val_acc': 0.8167,\n",
            "  'epochs': 5,\n",
            "  'f1': nan,\n",
            "  'label': 'RNN|text',\n",
            "  'precision': nan,\n",
            "  'recall': nan,\n",
            "  'stopped_early': False,\n",
            "  'test_acc': 0.81774,\n",
            "  'vocab': 30000},\n",
            " {'best_val_acc': 0.81666,\n",
            "  'epochs': 5,\n",
            "  'f1': nan,\n",
            "  'label': 'RNN|lemmatized_text',\n",
            "  'precision': nan,\n",
            "  'recall': nan,\n",
            "  'stopped_early': False,\n",
            "  'test_acc': 0.8169,\n",
            "  'vocab': 30000},\n",
            " {'best_val_acc': 0.82736,\n",
            "  'epochs': 5,\n",
            "  'f1': nan,\n",
            "  'label': 'LSTM|text',\n",
            "  'precision': nan,\n",
            "  'recall': nan,\n",
            "  'stopped_early': False,\n",
            "  'test_acc': 0.82926,\n",
            "  'vocab': 30000},\n",
            " {'best_val_acc': 0.82494,\n",
            "  'epochs': 5,\n",
            "  'f1': nan,\n",
            "  'label': 'LSTM|lemmatized_text',\n",
            "  'precision': nan,\n",
            "  'recall': nan,\n",
            "  'stopped_early': False,\n",
            "  'test_acc': 0.82654,\n",
            "  'vocab': 30000}]\n",
            "Best configuration: LSTM|text (test_acc=0.8293)\n"
          ]
        }
      ],
      "source": [
        "from pprint import pprint\n",
        "\n",
        "summary_rows = []\n",
        "for res in RESULTS:\n",
        "    row = {\n",
        "        'label': res['label'],\n",
        "        'vocab': res['vocab_size'],\n",
        "        'best_val_acc': res['best_val_acc'],\n",
        "        'test_acc': res['test_accuracy'],\n",
        "        'precision': res.get('precision', float('nan')),\n",
        "        'recall': res.get('recall', float('nan')),\n",
        "        'f1': res.get('f1', float('nan')),\n",
        "        'epochs': res['epochs_run'],\n",
        "        'stopped_early': res['stopped_early'],\n",
        "    }\n",
        "    summary_rows.append(row)\n",
        "pprint(summary_rows)\n",
        "print(f\"Best configuration: {BEST['label']} (test_acc={BEST['test_accuracy']:.4f})\")\n",
        "METRICS_TABLE = summary_rows\n",
        "\n"
      ]
    },
    {
      "cell_type": "markdown",
      "id": "821e8b05",
      "metadata": {},
      "source": [
        "\n",
        "### Metrics Visualisation\n",
        "The chart below compares accuracy, precision, recall, and F1 for each configuration to complement the textual summary.\n",
        "\n"
      ]
    },
    {
      "cell_type": "code",
      "execution_count": 16,
      "id": "8da7ed20",
      "metadata": {},
      "outputs": [
        {
          "data": {
            "image/png": "[encoded data removed]",
            "text/plain": [
              "<Figure size 1000x500 with 1 Axes>"
            ]
          },
          "metadata": {},
          "output_type": "display_data"
        }
      ],
      "source": [
        "import matplotlib.pyplot as plt\n",
        "import numpy as np\n",
        "\n",
        "labels = [row['label'] for row in METRICS_TABLE]\n",
        "accuracies = [row['test_acc'] for row in METRICS_TABLE]\n",
        "f1_scores = [row['f1'] for row in METRICS_TABLE]\n",
        "precision_scores = [row['precision'] for row in METRICS_TABLE]\n",
        "recall_scores = [row['recall'] for row in METRICS_TABLE]\n",
        "\n",
        "x = np.arange(len(labels))\n",
        "width = 0.2\n",
        "\n",
        "fig, ax = plt.subplots(figsize=(10, 5))\n",
        "ax.bar(x - 1.5 * width, accuracies, width, label='Accuracy')\n",
        "ax.bar(x - 0.5 * width, precision_scores, width, label='Precision')\n",
        "ax.bar(x + 0.5 * width, recall_scores, width, label='Recall')\n",
        "ax.bar(x + 1.5 * width, f1_scores, width, label='F1')\n",
        "\n",
        "ax.set_title('Test Metrics by Configuration')\n",
        "ax.set_xticks(x)\n",
        "ax.set_xticklabels(labels, rotation=15)\n",
        "ax.set_ylim(0, 1)\n",
        "ax.legend()\n",
        "ax.grid(axis='y', linestyle=':', alpha=0.5)\n",
        "plt.tight_layout()\n",
        "plt.show()\n",
        "\n"
      ]
    },
    {
      "cell_type": "markdown",
      "id": "697c2230",
      "metadata": {},
      "source": [
        "## Preview Predictions (Optional)\n",
        "Inspect a handful of test sentences with their predicted probabilities. Toggle previews via `OPTIONS['no_preview']` or the preview count.\n"
      ]
    },
    {
      "cell_type": "code",
      "execution_count": 13,
      "id": "b6edafd8",
      "metadata": {},
      "outputs": [
        {
          "name": "stdout",
          "output_type": "stream",
          "text": [
            "Preview for RNN|text:\n",
            "  text='CS is stupid. Its warm up here  I have a sore tongue haha. Anddd mum is making cake.'    true=positive pred=negative prob_neg=0.712 prob_pos=0.288\n",
            "  text='my website: LifeLineLaugh.piczo.com .... visit it! please '    true=positive pred=positive prob_neg=0.050 prob_pos=0.950\n",
            "  text=' @ a f o x 9 8   T h a n k   y o u   f o r   e n d l e s s .   H a v e   S a r t o   C o m e d y   a n d   L a u r e ...'    true=positive pred=positive prob_neg=0.436 prob_pos=0.564\n",
            "Preview for RNN|lemmatized_text:\n",
            "  text='c be stupid . it warm up here i have a sore tongue haha . anddd mum be make cake .'    true=positive pred=negative prob_neg=0.902 prob_pos=0.098\n",
            "  text='my website : lifelinelaugh.piczo.com .... visit it ! please'    true=positive pred=positive prob_neg=0.214 prob_pos=0.786\n",
            "  text=' @   a f o x 9 8   t h a n k   y o u   f o r   e n d l e s s   .   h a v e   s a r t o   c o m e d y   a n d   l a u ...'    true=positive pred=positive prob_neg=0.043 prob_pos=0.957\n",
            "Preview for LSTM|text:\n",
            "  text='CS is stupid. Its warm up here  I have a sore tongue haha. Anddd mum is making cake.'    true=positive pred=positive prob_neg=0.383 prob_pos=0.617\n",
            "  text='my website: LifeLineLaugh.piczo.com .... visit it! please '    true=positive pred=positive prob_neg=0.043 prob_pos=0.957\n",
            "  text=' @ a f o x 9 8   T h a n k   y o u   f o r   e n d l e s s .   H a v e   S a r t o   C o m e d y   a n d   L a u r e ...'    true=positive pred=positive prob_neg=0.173 prob_pos=0.827\n",
            "Preview for LSTM|lemmatized_text:\n",
            "  text='c be stupid . it warm up here i have a sore tongue haha . anddd mum be make cake .'    true=positive pred=negative prob_neg=0.719 prob_pos=0.281\n",
            "  text='my website : lifelinelaugh.piczo.com .... visit it ! please'    true=positive pred=positive prob_neg=0.016 prob_pos=0.984\n",
            "  text=' @   a f o x 9 8   t h a n k   y o u   f o r   e n d l e s s   .   h a v e   s a r t o   c o m e d y   a n d   l a u ...'    true=positive pred=positive prob_neg=0.277 prob_pos=0.723\n"
          ]
        }
      ],
      "source": [
        "if OPTIONS['no_preview'] or OPTIONS['preview_samples'] <= 0:\n",
        "    LOGGER.info('Preview disabled via configuration.')\n",
        "else:\n",
        "    for res in RESULTS:\n",
        "        print(f\"Preview for {res['label']}:\")\n",
        "        if not res['preview']:\n",
        "            print('  No preview samples available.')\n",
        "            continue\n",
        "        for sample in res['preview']:\n",
        "            print(\n",
        "                f\"  text='{sample['text']}'\"\n",
        "                f\"    true={sample['true_label']} pred={sample['pred_label']} \"\n",
        "                f\"prob_neg={sample['prob_negative']:.3f} prob_pos={sample['prob_positive']:.3f}\"\n",
        "            )"
      ]
    }
  ],
  "metadata": {
    "kernelspec": {
      "display_name": ".venv",
      "language": "python",
      "name": "python3"
    },
    "language_info": {
      "codemirror_mode": {
        "name": "ipython",
        "version": 3
      },
      "file_extension": ".py",
      "mimetype": "text/x-python",
      "name": "python",
      "nbconvert_exporter": "python",
      "pygments_lexer": "ipython3",
      "version": "3.13.6"
    }
  },
  "nbformat": 4,
  "nbformat_minor": 5
}
